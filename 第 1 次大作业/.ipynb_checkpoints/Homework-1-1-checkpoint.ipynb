{
 "cells": [
  {
   "cell_type": "markdown",
   "metadata": {},
   "source": [
    "# Homework 1-1\n",
    "\n",
    "---\n",
    "\n",
    "Welcome to Data Science Course. To ensure everything goes smoothly moving forward, we will setup the majority of those tools in this homework. While some of this will likely be <font color=orange>dull</font> (不够有趣的), doing it now will enable us to do more exciting work in the weeks that follow <font color=orange>without getting bogged down</font> (没有陷入困境) in further software configuration. \n",
    "\n",
    "\n",
    "## Programming expectations\n",
    "\n",
    "All the homework for this class will use Python and, for the most part, the browser-based Jupyter notebook format you are currently viewing. Knowledge of Python is not a <font color=orange>prerequisite</font> (先决条件) for this course, **provided you are comfortable learning on your own as needed**. While we have <font color=orange>strived</font> (努力) to make the programming component of this course <font color=orange>straightforward</font> (直截了当的), we will not devote much time to teaching prorgramming or Python syntax. Basically, you should feel comfortable with:\n",
    "\n",
    "* How to look up Python syntax on **Google** and **StackOverflow**.\n",
    "* Basic programming concepts like <font color=red>functions, loops, arrays, dictionaries, strings, and if statements.</font>\n",
    "* How to learn new libraries by **reading documentation**.\n",
    "* Asking questions on StackOverflow or Google.\n",
    "\n",
    "There are many online tutorials to introduce you to scientific python programming.\n",
    "\n",
    "## Getting Python\n",
    "\n",
    "You will be using Python throughout the course, including many popular <font color=orange>3rd party Python libraries</font> (第 3 方 Python 库) for scientific computing. Anaconda is an easy-to-install bundle of Python and most of these libraries. We recommend that you <font color=blue>use Anaconda for this course.</font>\n",
    "\n",
    "\n",
    "## Hello, Python\n",
    "\n",
    "The Jupyter notebook is an application to build interactive computational notebooks. You'll be using them to complete homework. Once you've set up Python, please open this page(*.ipynb) with Jupyter notebook, by running anaconda navigator and Jupyter notebook.\n",
    "\n",
    "Notebooks are composed of many \"cells\", which can contain text (like this one), or code (like the one below). Double click on the cell below, and evaluate it by clicking the \"Run\" button above."
   ]
  },
  {
   "cell_type": "code",
   "execution_count": 1,
   "metadata": {},
   "outputs": [
    {
     "name": "stdout",
     "output_type": "stream",
     "text": [
      "Item is  10\n",
      "Item is  20\n",
      "Item is  30\n",
      "Item is  40\n",
      "Item is  50\n"
     ]
    }
   ],
   "source": [
    "x = [10, 20, 30, 40, 50]\n",
    "for item in x:\n",
    "    print(\"Item is \", item) "
   ]
  },
  {
   "cell_type": "markdown",
   "metadata": {},
   "source": [
    "## 查看 ipynb 所用的虚拟环境"
   ]
  },
  {
   "cell_type": "code",
   "execution_count": 2,
   "metadata": {},
   "outputs": [
    {
     "data": {
      "text/plain": [
       "'/opt/anaconda3/envs/ML_EXP/bin/python'"
      ]
     },
     "execution_count": 2,
     "metadata": {},
     "output_type": "execute_result"
    }
   ],
   "source": [
    "import sys\n",
    "sys.executable"
   ]
  },
  {
   "cell_type": "markdown",
   "metadata": {},
   "source": [
    "## 画图显示中文"
   ]
  },
  {
   "cell_type": "code",
   "execution_count": 3,
   "metadata": {},
   "outputs": [],
   "source": [
    "import matplotlib\n",
    "# matplotlib.use('qt4agg')\n",
    "#指定默认字体\n",
    "matplotlib.rcParams['font.sans-serif'] = ['SimHei']\n",
    "matplotlib.rcParams['font.family']='sans-serif'\n",
    "#解决负号'-'显示为方块的问题\n",
    "matplotlib.rcParams['axes.unicode_minus'] = False"
   ]
  },
  {
   "cell_type": "markdown",
   "metadata": {},
   "source": [
    "## Python Libraries\n",
    "\n",
    "We will be using a several different libraries throughout this course. If you've successfully completed the installation instructions, all of the following statements should run.\n",
    "\n",
    "* `numpy`:         Arrays 的处理\n",
    "* `scipy`:         有许多数值算法\n",
    "* `pandas`:        处理 tables 数据更方便\n",
    "* `matplotlib`:    画图\n",
    "* `sklearn`:       机器学习算法\n",
    "* `requests`:      从网上得到数据相关的包\n",
    "* `networkx`:      和网络工作相关的包\n",
    "* `BeautifulSoup`: 爬虫相关的包"
   ]
  },
  {
   "cell_type": "code",
   "execution_count": 4,
   "metadata": {},
   "outputs": [
    {
     "name": "stdout",
     "output_type": "stream",
     "text": [
      "Numpy version:  1.18.1 \n",
      "SciPy version:   1.4.1 \n",
      "Pandas version:   1.0.3\n",
      "Mapltolib version:   3.1.3\n",
      "Scikit-Learn version: 0.22.1 \n",
      "requests version:     2.25.1\n",
      "NetworkX version:      2.6.3 \n",
      "BeautifulSoup version:4.10.0 \n"
     ]
    }
   ],
   "source": [
    "#!/usr/bin/env python\n",
    "# Numpy is a library for working with Arrays\n",
    "import numpy as np\n",
    "print(\"Numpy version:  %6.6s \" % np.__version__) \n",
    "\n",
    "# SciPy implements many different numerical algorithms\n",
    "import scipy as sp\n",
    "print(\"SciPy version:  %6.6s \" % sp.__version__) \n",
    "\n",
    "# Pandas makes working with data tables easier\n",
    "import pandas as pd\n",
    "print(\"Pandas version:  %6.6s\" % pd.__version__) \n",
    "\n",
    "# Module for plotting\n",
    "import matplotlib\n",
    "print(\"Mapltolib version:  %6.6s\" % matplotlib.__version__) \n",
    "\n",
    "# SciKit Learn implements several Machine Learning algorithms\n",
    "import sklearn\n",
    "print(\"Scikit-Learn version: %6.6s \" % sklearn.__version__) \n",
    "\n",
    "# Requests is a library for getting data from the Web\n",
    "import requests\n",
    "print(\"requests version:     %6.6s\" % requests.__version__) \n",
    "\n",
    "# Networkx is a library for working with networks\n",
    "import networkx as nx\n",
    "print(\"NetworkX version:     %6.6s \" % nx.__version__) \n",
    "\n",
    "#BeautifulSoup is a library to parse HTML and XML documents\n",
    "from bs4 import BeautifulSoup\n",
    "import bs4 \n",
    "print(\"BeautifulSoup version:%6.6s \" % bs4.__version__) \n"
   ]
  },
  {
   "cell_type": "markdown",
   "metadata": {},
   "source": [
    "If any of these libraries are missing or out of date, you will need to install them.and restart Jupyter notebook."
   ]
  },
  {
   "cell_type": "markdown",
   "metadata": {},
   "source": [
    "## Hello matplotlib"
   ]
  },
  {
   "cell_type": "markdown",
   "metadata": {},
   "source": [
    "The notebook integrates nicely with Matplotlib, the primary plotting package for python. This should embed a figure of a <font color=orange>sine wave</font> (正弦波):"
   ]
  },
  {
   "cell_type": "code",
   "execution_count": 5,
   "metadata": {
    "scrolled": false
   },
   "outputs": [
    {
     "data": {
      "text/plain": [
       "Text(0.5, 1.0, '正弦曲线和其噪声曲线')"
      ]
     },
     "execution_count": 5,
     "metadata": {},
     "output_type": "execute_result"
    },
    {
     "data": {
      "image/png": "[encoded data removed]",
      "text/plain": [
       "<Figure size 432x288 with 1 Axes>"
      ]
     },
     "metadata": {
      "needs_background": "light"
     },
     "output_type": "display_data"
    }
   ],
   "source": [
    "# this actually imports matplotlib\n",
    "import matplotlib.pyplot as plt  \n",
    "\n",
    "x = np.linspace(0, 10, 30)  #array of 30 points from 0 to 10\n",
    "y = np.sin(x)\n",
    "z = y + np.random.normal(size=30) * .2\n",
    "plt.plot(x, y, 'ro-', label='A sine wave')\n",
    "plt.plot(x, z, 'b-', label='Noisy sine')\n",
    "plt.legend(loc = 'lower right')\n",
    "plt.xlabel(\"X axis\")\n",
    "plt.ylabel(\"Y axis\")           \n",
    "plt.title(\"正弦曲线和其噪声曲线\")"
   ]
  },
  {
   "cell_type": "markdown",
   "metadata": {},
   "source": [
    "## Hello Numpy\n",
    "\n",
    "The Numpy array processing library is the basis of nearly all numerical computing in Python. Here's a 30 second crash course. For more details, consult the [Numpy User's Guide](http://docs.scipy.org/doc/numpy-dev/user/index.html)"
   ]
  },
  {
   "cell_type": "code",
   "execution_count": 6,
   "metadata": {},
   "outputs": [
    {
     "name": "stdout",
     "output_type": "stream",
     "text": [
      "Make a 3 row x 4 column array of random numbers\n",
      "[[0.85878325 0.75394545 0.4480394  0.2142238 ]\n",
      " [0.26519787 0.0685497  0.92589428 0.86806017]\n",
      " [0.06262947 0.73146251 0.65466847 0.55367024]]\n",
      "\n",
      "\n",
      "Add 1 to every element\n",
      "[[1.85878325 1.75394545 1.4480394  1.2142238 ]\n",
      " [1.26519787 1.0685497  1.92589428 1.86806017]\n",
      " [1.06262947 1.73146251 1.65466847 1.55367024]]\n",
      "\n",
      "\n",
      "Get the element at row 1, column 2\n",
      "1.9258942790775093\n",
      "\n",
      "\n",
      "Get the first row\n",
      "[1.85878325 1.75394545 1.4480394  1.2142238 ]\n",
      "\n",
      "\n",
      "Get every 2nd column of the first row\n",
      "[1.85878325 1.4480394 ]\n",
      "\n",
      "\n"
     ]
    }
   ],
   "source": [
    "print(\"Make a 3 row x 4 column array of random numbers\") \n",
    "x = np.random.random((3, 4))\n",
    "print(x)\n",
    "print(\"\\n\")\n",
    "\n",
    "print(\"Add 1 to every element\") \n",
    "x = x + 1\n",
    "print(x)\n",
    "print(\"\\n\")\n",
    "\n",
    "print(\"Get the element at row 1, column 2\") \n",
    "print(x[1, 2]) \n",
    "print(\"\\n\")\n",
    "\n",
    "# The colon syntax is called \"slicing\" the array. \n",
    "print(\"Get the first row\") \n",
    "print(x[0, :]) \n",
    "print(\"\\n\")\n",
    "\n",
    "print(\"Get every 2nd column of the first row\") \n",
    "print(x[0, ::2]) \n",
    "print(\"\\n\")"
   ]
  },
  {
   "cell_type": "markdown",
   "metadata": {},
   "source": [
    "Print the maximum, minimum, and mean of the array. This does **not** require writing a loop. In the code cell below, type `x.m<TAB>`, to find built-in operations for common array statistics like this"
   ]
  },
  {
   "cell_type": "code",
   "execution_count": 7,
   "metadata": {},
   "outputs": [
    {
     "name": "stdout",
     "output_type": "stream",
     "text": [
      "x: \n",
      "[[1.85878325 1.75394545 1.4480394  1.2142238 ]\n",
      " [1.26519787 1.0685497  1.92589428 1.86806017]\n",
      " [1.06262947 1.73146251 1.65466847 1.55367024]]\n",
      "\n",
      "\n",
      "the maximum of the array:\n",
      "1.9258942790775093\n",
      "\n",
      "\n",
      "the minimum of the array:\n",
      "1.062629468755404\n",
      "\n",
      "\n",
      "the mean of the array:\n",
      "1.5337603835366762\n",
      "\n",
      "\n"
     ]
    }
   ],
   "source": [
    "# your code here\n",
    "# 输出数组的最大值、最小值、均值\n",
    "print(\"x: \")\n",
    "print(x)\n",
    "print('\\n')\n",
    "\n",
    "print(\"the maximum of the array:\")\n",
    "print(x.max())\n",
    "print('\\n')\n",
    "\n",
    "print(\"the minimum of the array:\")\n",
    "print(x.min())\n",
    "print('\\n')\n",
    "\n",
    "\n",
    "print(\"the mean of the array:\")\n",
    "print(x.mean()) \n",
    "print('\\n')"
   ]
  },
  {
   "cell_type": "markdown",
   "metadata": {},
   "source": [
    "Call the `x.max` function again, but use the `axis` keyword to print the maximum of each row in x."
   ]
  },
  {
   "cell_type": "code",
   "execution_count": 8,
   "metadata": {},
   "outputs": [
    {
     "name": "stdout",
     "output_type": "stream",
     "text": [
      "x: \n",
      "[[1.85878325 1.75394545 1.4480394  1.2142238 ]\n",
      " [1.26519787 1.0685497  1.92589428 1.86806017]\n",
      " [1.06262947 1.73146251 1.65466847 1.55367024]]\n",
      "\n",
      "\n",
      "行方向的最大值: \n",
      "[1.85878325 1.75394545 1.92589428 1.86806017]\n",
      "\n",
      "\n",
      "列方向的最大值: \n",
      "[1.85878325 1.92589428 1.73146251]\n",
      "\n",
      "\n",
      "行方向的最小值: \n",
      "[1.06262947 1.0685497  1.4480394  1.2142238 ]\n",
      "\n",
      "\n",
      "列方向的最小值: \n",
      "[1.2142238  1.0685497  1.06262947]\n",
      "\n",
      "\n"
     ]
    }
   ],
   "source": [
    "#your code here\n",
    "# 可以指定关键字参数axis来获得行最大（小）值或列最大（小）值\n",
    "# axis=0 行方向最大（小）值，即获得每列的最大（小）值\n",
    "# axis=1 列方向最大（小）值，即获得每行的最大（小）值\n",
    "print(\"x: \")\n",
    "print(x)\n",
    "print('\\n')\n",
    "\n",
    "print(\"行方向的最大值: \")\n",
    "print(x.max(axis=0))\n",
    "print('\\n')\n",
    "\n",
    "print(\"列方向的最大值: \")\n",
    "print(x.max(axis=1))\n",
    "print('\\n')\n",
    "\n",
    "print(\"行方向的最小值: \")\n",
    "print(x.min(axis=0))\n",
    "print('\\n')\n",
    "\n",
    "print(\"列方向的最小值: \")\n",
    "print(x.min(axis=1))\n",
    "print('\\n')"
   ]
  },
  {
   "cell_type": "markdown",
   "metadata": {},
   "source": [
    "Here's a way to quickly simulate 500 coin \"fair\" coin tosses (where the probabily of getting Heads is 50%, or 0.5)"
   ]
  },
  {
   "cell_type": "code",
   "execution_count": 9,
   "metadata": {},
   "outputs": [
    {
     "name": "stdout",
     "output_type": "stream",
     "text": [
      "number of heads: 254\n"
     ]
    }
   ],
   "source": [
    "x = np.random.binomial(500, .5)\n",
    "print(\"number of heads:\", x)  "
   ]
  },
  {
   "cell_type": "markdown",
   "metadata": {},
   "source": [
    "Repeat this simulation 500 times, and use the [plt.hist() function](http://matplotlib.org/api/pyplot_api.html#matplotlib.pyplot.hist) to plot a histogram of the number of Heads (1s) in each simulation"
   ]
  },
  {
   "cell_type": "code",
   "execution_count": 10,
   "metadata": {},
   "outputs": [
    {
     "data": {
      "text/plain": [
       "Text(0.5, 1.0, '500 次测试的硬币朝上的次数分布曲线')"
      ]
     },
     "execution_count": 10,
     "metadata": {},
     "output_type": "execute_result"
    },
    {
     "data": {
      "image/png": "[encoded data removed]",
      "text/plain": [
       "<Figure size 432x288 with 1 Axes>"
      ]
     },
     "metadata": {
      "needs_background": "light"
     },
     "output_type": "display_data"
    }
   ],
   "source": [
    "# your code here\n",
    "# 创建存储 500 次测试的数组\n",
    "list_x = []\n",
    "\n",
    "for i in range(500):\n",
    "    temp_x = np.random.binomial(500, .5)\n",
    "    list_x.append(temp_x)\n",
    "    \n",
    "plt.hist(list_x) \n",
    "plt.xlabel(\"硬币正面朝上的次数\")\n",
    "plt.ylabel(\"频率\")           \n",
    "plt.title(\"500 次测试的硬币朝上的次数分布曲线\")"
   ]
  },
  {
   "cell_type": "markdown",
   "metadata": {},
   "source": [
    "## The Monty Hall Problem\n",
    "\n",
    "\n",
    "Here's a fun and perhaps surprising <font color=orange>statistical riddle</font> (统计谜语), and a good way to <font color=red>get some practice writing python functions</font>\n",
    "\n",
    "In a gameshow, <font color=orange>contestants</font> (参赛者) try to guess which of 3 closed doors contain a cash prize (goats are behind the other two doors). Of course, the <font color=orange>odds</font> (可能性) of choosing the correct door are 1 in 3. <font color=orange>As a twist</font> (作为转折), the <font color=orange>host</font> (主持人) of the show <font color=orange>occasionally</font> (偶然地) opens a door after a contestant makes his or her choice. This door is always one of the two the contestant did not pick, and is also always one of the goat doors (note that it is always possible to do this, since there are two goat doors). At this point, the contestant has the option of keeping his or her original choice, or swtiching to the other unopened door. The question is: is there any benefit to switching doors? The answer surprises many people who haven't heard the question before.\n",
    "\n",
    "<font color=blue>We can answer the problem by running simulations in Python</font>. We'll do it in several parts.\n",
    "\n",
    "First, write a function called `simulate_prizedoor`. This function will <font color=red>simulate the location of the prize in many games</font> -- see the detailed specification below:"
   ]
  },
  {
   "cell_type": "code",
   "execution_count": 11,
   "metadata": {},
   "outputs": [],
   "source": [
    "import random\n",
    "\n",
    "\"\"\"\n",
    "Function\n",
    "--------\n",
    "simulate_prizedoor\n",
    "\n",
    "Generate a random array of 0s, 1s, and 2s, representing\n",
    "hiding a prize between door 0, door 1, and door 2\n",
    "\n",
    "Parameters\n",
    "----------\n",
    "nsim : int\n",
    "    The number of simulations to run\n",
    "\n",
    "Returns\n",
    "-------\n",
    "sims : array\n",
    "    Random array of 0s, 1s, and 2s\n",
    "\n",
    "Example\n",
    "-------\n",
    ">>> print simulate_prizedoor(3)\n",
    "array([0, 0, 2])\n",
    "\"\"\"\n",
    "def simulate_prizedoor(nsim):\n",
    "    # 对 nsim 次随机产生数字\n",
    "    sims = []\n",
    "    for i in range(nsim):\n",
    "        temp = random.randint(0,2)\n",
    "        sims.append(temp)\n",
    "    \n",
    "    # 转换为 np.array 的形式\n",
    "    sims = np.array(sims)\n",
    "    \n",
    "    return sims\n"
   ]
  },
  {
   "cell_type": "markdown",
   "metadata": {},
   "source": [
    "Next, write a function that simulates the contestant's guesses for `nsim` simulations. Call this function `simulate_guess`. The specs:"
   ]
  },
  {
   "cell_type": "code",
   "execution_count": 12,
   "metadata": {},
   "outputs": [],
   "source": [
    "\"\"\"\n",
    "Function\n",
    "--------\n",
    "simulate_guess\n",
    "\n",
    "Return any strategy for guessing which door a prize is behind. This\n",
    "could be a random strategy, one that always guesses 2, whatever.\n",
    "\n",
    "Parameters\n",
    "----------\n",
    "nsim : int\n",
    "    The number of simulations to generate guesses for\n",
    "\n",
    "Returns\n",
    "-------\n",
    "guesses : array\n",
    "    An array of guesses. Each guess is a 0, 1, or 2\n",
    "\n",
    "Example\n",
    "-------\n",
    ">>> print simulate_guess(5)\n",
    "array([0, 0, 0, 0, 0])\n",
    "\"\"\"\n",
    "def simulate_guess(nsim):\n",
    "    # 对 nsim 次随机产生数字\n",
    "    guesses = []\n",
    "    for i in range(nsim):\n",
    "        temp = random.randint(0,2)\n",
    "        guesses.append(temp)\n",
    "    \n",
    "    # 转换为 np.array 的形式\n",
    "    guesses = np.array(guesses)\n",
    "    \n",
    "    return guesses"
   ]
  },
  {
   "cell_type": "markdown",
   "metadata": {},
   "source": [
    "Next, write a function, `goat_door`, to simulate randomly revealing one of the goat doors that a contestant didn't pick."
   ]
  },
  {
   "cell_type": "code",
   "execution_count": 13,
   "metadata": {},
   "outputs": [],
   "source": [
    "\"\"\"\n",
    "Function\n",
    "--------\n",
    "goat_door\n",
    "\n",
    "Simulate the opening of a \"goat door\" that doesn't contain the prize,\n",
    "and is different from the contestants guess\n",
    "\n",
    "Parameters\n",
    "----------\n",
    "prizedoors : array\n",
    "    The door that the prize is behind in each simulation\n",
    "guesses : array\n",
    "    THe door that the contestant guessed in each simulation\n",
    "\n",
    "Returns\n",
    "-------\n",
    "goats : array\n",
    "    The goat door that is opened for each simulation. Each item is 0, 1, or 2, and is different\n",
    "    from both prizedoors and guesses\n",
    "\n",
    "Examples\n",
    "--------\n",
    ">>> print goat_door(np.array([0, 1, 2]), np.array([1, 1, 1]))\n",
    ">>> array([2, 2, 0])\n",
    "\"\"\"\n",
    "#your code here\n",
    "def goat_door(prizedoors, guesses):\n",
    "    # 初始化 goats\n",
    "    goats = []\n",
    "    length = len(prizedoors)\n",
    "    \n",
    "    # 进行循环得到每次选择的山羊\n",
    "    for i in range(length):\n",
    "        # 得到临时的奖品值、猜测值\n",
    "        temp_prize = prizedoors[i]\n",
    "        temp_guess = guesses[i]\n",
    "        \n",
    "        # 删除猜测的数字\n",
    "        temp_list = [0, 1, 2]\n",
    "        temp_list.remove(temp_guess) # 根据索引值删除元素\n",
    "   \n",
    "        # 如果奖品值与猜测值相同\n",
    "        if temp_guess == temp_prize:\n",
    "            temp_goat = random.choice(temp_list)\n",
    "        else:\n",
    "            temp_list.remove(temp_prize)\n",
    "            temp_goat = temp_list[0]\n",
    "        \n",
    "        # 添加到 goats 中\n",
    "        goats.append(temp_goat)\n",
    "    \n",
    "    # 转换为 numpy 数组\n",
    "    goats = np.array(goats)\n",
    "    \n",
    "    return goats\n"
   ]
  },
  {
   "cell_type": "markdown",
   "metadata": {},
   "source": [
    "Write a function, `switch_guess`, that represents the strategy of always switching a guess after the goat door is opened."
   ]
  },
  {
   "cell_type": "code",
   "execution_count": 14,
   "metadata": {},
   "outputs": [],
   "source": [
    "\"\"\"\n",
    "Function\n",
    "--------\n",
    "switch_guess\n",
    "\n",
    "The strategy that always switches a guess after the goat door is opened\n",
    "\n",
    "Parameters\n",
    "----------\n",
    "guesses : array\n",
    "     Array of original guesses, for each simulation\n",
    "goatdoors : array\n",
    "     Array of revealed goat doors for each simulation\n",
    "\n",
    "Returns\n",
    "-------\n",
    "The new door after switching. Should be different from both guesses and goatdoors\n",
    "\n",
    "Examples\n",
    "--------\n",
    ">>> print switch_guess(np.array([0, 1, 2]), np.array([1, 2, 1]))\n",
    ">>> array([2, 0, 0])\n",
    "\"\"\"\n",
    "#your code here\n",
    "def switch_guess(guesses, goatdoors):\n",
    "    # 初始化\n",
    "    switchs = []\n",
    "    lengh = len(guesses)\n",
    "    \n",
    "    for i in range(lengh):\n",
    "        # 获得临时的数字\n",
    "        temp_guess = guesses[i]\n",
    "        temp_door = goatdoors[i]\n",
    "        \n",
    "        # 删除数字\n",
    "        temp_list = [0, 1, 2]\n",
    "        temp_list.remove(temp_guess) # 根据索引值删除元素\n",
    "        temp_list.remove(temp_door)\n",
    "        \n",
    "        # 获得转换的值\n",
    "        temp_switch = temp_list[0]\n",
    "        switchs.append(temp_switch)\n",
    "  \n",
    "    \n",
    "    # 转换为 numpy \n",
    "    switchs = np.array(switchs)\n",
    "    \n",
    "    return switchs"
   ]
  },
  {
   "cell_type": "markdown",
   "metadata": {},
   "source": [
    "Last function: write a `win_percentage` function that takes an array of `guesses` and `prizedoors`, and returns the percent of correct guesses"
   ]
  },
  {
   "cell_type": "code",
   "execution_count": 15,
   "metadata": {},
   "outputs": [],
   "source": [
    "\"\"\"\n",
    "Function\n",
    "--------\n",
    "win_percentage\n",
    "\n",
    "Calculate the percent of times that a simulation of guesses is correct\n",
    "\n",
    "Parameters\n",
    "-----------\n",
    "guesses : array\n",
    "    Guesses for each simulation\n",
    "prizedoors : array\n",
    "    Location of prize for each simulation\n",
    "\n",
    "Returns\n",
    "--------\n",
    "percentage : number between 0 and 100\n",
    "    The win percentage\n",
    "\n",
    "Examples\n",
    "---------\n",
    ">>> print win_percentage(np.array([0, 1, 2]), np.array([0, 0, 0]))\n",
    "33.333\n",
    "\"\"\"\n",
    "def win_percentage(guesses, prizedoors):\n",
    "    # 计算总数\n",
    "    lengh = len(guesses)\n",
    "    \n",
    "    # 计算相等的个数\n",
    "    lengh_right = np.sum(guesses==prizedoors)\n",
    "    \n",
    "    acc = float(lengh_right) / lengh\n",
    "    acc *= 100\n",
    "    return acc \n"
   ]
  },
  {
   "cell_type": "markdown",
   "metadata": {},
   "source": [
    "Now, put it together. Simulate 10000 games where contestant keeps his original guess, and 10000 games where the contestant switches his door after a  goat door is revealed. Compute the percentage of time the contestant wins under either strategy. Is one strategy better than the other?"
   ]
  },
  {
   "cell_type": "code",
   "execution_count": 16,
   "metadata": {},
   "outputs": [
    {
     "name": "stdout",
     "output_type": "stream",
     "text": [
      "10000 次保持原始预测的正确率: \n",
      "33.76\n",
      "\n",
      "\n",
      "10000 次修改预测的正确率: \n",
      "66.24\n",
      "\n",
      "\n"
     ]
    }
   ],
   "source": [
    "# ----- 随机数的产生 ----- #\n",
    "prizes = simulate_prizedoor(10000)\n",
    "guesses = simulate_guess(10000)\n",
    "goats = goat_door(prizes, guesses)\n",
    "guesses_change = switch_guess(guesses, goats)\n",
    "\n",
    "\n",
    "# ----- 10000 次保持原始预测 ----- #\n",
    "print(\"10000 次保持原始预测的正确率: \")\n",
    "print(win_percentage(guesses, prizes))\n",
    "print('\\n')\n",
    "\n",
    "# ----- 10000 次修改预测 ----- #\n",
    "print(\"10000 次修改预测的正确率: \")\n",
    "print(win_percentage(guesses_change, prizes))\n",
    "print('\\n')"
   ]
  },
  {
   "cell_type": "markdown",
   "metadata": {},
   "source": [
    "Many people find this answer <font color=orange>counter-intuitive</font> (违反直觉的) (famously, PhD <font color=orange>mathematicians</font> (数学家) have incorrectly claimed the result must be wrong. Clearly, none of them knew Python). \n"
   ]
  }
 ],
 "metadata": {
  "kernelspec": {
   "display_name": "Python 3",
   "language": "python",
   "name": "python3"
  },
  "language_info": {
   "codemirror_mode": {
    "name": "ipython",
    "version": 3
   },
   "file_extension": ".py",
   "mimetype": "text/x-python",
   "name": "python",
   "nbconvert_exporter": "python",
   "pygments_lexer": "ipython3",
   "version": "3.7.7"
  }
 },
 "nbformat": 4,
 "nbformat_minor": 1
}
